{
 "cells": [
  {
   "cell_type": "markdown",
   "metadata": {},
   "source": [
    "# 2. Data collection into dataframe "
   ]
  },
  {
   "cell_type": "markdown",
   "metadata": {},
   "source": [
    "Data for this study are the cirle_map output in the form of bed files. These files constitute the predicted eccDNA coordinates of the chromosome and other features listed below.\n",
    "\n",
    "The major aim is to predict the eccDNA from the data using machine learning approaches"
   ]
  },
  {
   "cell_type": "markdown",
   "metadata": {},
   "source": [
    "**The features of the circle map files and their significance is as below:**\n",
    "\n",
    "1) chr - Origin with respect to reference chromosome\n",
    "\n",
    "2) start_coord - Start coordinate position\n",
    "\n",
    "3) end_coord - End coordinate position\n",
    "\n",
    "4) discordants - Number of discordant read pairs\n",
    "\n",
    "5) split_reads - Number of split reads \n",
    "\n",
    "6) Circle score - Prediction score of circle map\n",
    "\n",
    "7) mean_cov - Mean Coverage\n",
    "\n",
    "8) stddev_cov - Standard deviation of the coverage\n",
    "\n",
    "9) cov_incr_start - coverage increase in the start coordinate\n",
    "\n",
    "10) cov_incr_end - coverage increase in the end coordinate\n",
    "\n",
    "11) coverage continuity - quality of identification of reads aligning the circle\n"
   ]
  },
  {
   "cell_type": "code",
   "execution_count": 61,
   "metadata": {},
   "outputs": [
    {
     "name": "stdout",
     "output_type": "stream",
     "text": [
      "Requirement already satisfied: modin in c:\\users\\asha\\anaconda3\\lib\\site-packages (0.8.2)\n",
      "Requirement already satisfied: packaging in c:\\users\\asha\\anaconda3\\lib\\site-packages (from modin) (20.4)\n",
      "Requirement already satisfied: pandas==1.1.4 in c:\\users\\asha\\anaconda3\\lib\\site-packages (from modin) (1.1.4)\n",
      "Requirement already satisfied: six in c:\\users\\asha\\anaconda3\\lib\\site-packages (from packaging->modin) (1.15.0)\n",
      "Requirement already satisfied: pyparsing>=2.0.2 in c:\\users\\asha\\anaconda3\\lib\\site-packages (from packaging->modin) (2.4.7)\n",
      "Requirement already satisfied: numpy>=1.15.4 in c:\\users\\asha\\anaconda3\\lib\\site-packages (from pandas==1.1.4->modin) (1.18.5)\n",
      "Requirement already satisfied: python-dateutil>=2.7.3 in c:\\users\\asha\\anaconda3\\lib\\site-packages (from pandas==1.1.4->modin) (2.8.1)\n",
      "Requirement already satisfied: pytz>=2017.2 in c:\\users\\asha\\anaconda3\\lib\\site-packages (from pandas==1.1.4->modin) (2020.1)\n"
     ]
    }
   ],
   "source": [
    "# Install modin for light weight pandas     \n",
    "\n",
    "!pip install modin"
   ]
  },
  {
   "cell_type": "code",
   "execution_count": 5,
   "metadata": {},
   "outputs": [
    {
     "name": "stderr",
     "output_type": "stream",
     "text": [
      "UserWarning: The Dask Engine for Modin is experimental.\n",
      "UserWarning: Port 8787 is already in use.\n",
      "Perhaps you already have a cluster running?\n",
      "Hosting the HTTP server on port 64204 instead\n"
     ]
    }
   ],
   "source": [
    "import modin.pandas as pd\n",
    "import os\n",
    "import numpy as np\n",
    "import mysql.connector\n",
    "from mysql.connector import errorcode"
   ]
  },
  {
   "cell_type": "code",
   "execution_count": 6,
   "metadata": {},
   "outputs": [
    {
     "name": "stdout",
     "output_type": "stream",
     "text": [
      "['ATAC', 'circle_SRR10704195.txt', 'circle_SRR10704196.txt', 'circle_SRR10704197.txt', 'circle_SRR10704198.txt', 'circle_SRR10704199.txt', 'circle_SRR10704200.txt', 'circle_SRR10704201.txt', 'circle_SRR10704202.txt', 'circle_SRR10704203.txt', 'circle_SRR10704204.txt', 'circle_SRR10704205.txt', 'circle_SRR10704206.txt', 'circle_SRR10704207.txt', 'circle_SRR10704208.txt', 'circle_SRR10704209.txt', 'circle_SRR10704210.txt', 'circle_SRR10704211.txt', 'circle_SRR10704212.txt', 'circle_SRR10704213.txt', 'circle_SRR10704214.txt', 'circle_SRR10704215.txt', 'circle_SRR10704216.txt', 'circle_SRR10704217.txt', 'circle_SRR4009201.txt', 'circle_SRR4009202.txt', 'circle_SRR4009212.txt', 'circle_SRR4009213.txt', 'circle_SRR4009215.txt', 'circle_SRR4009216.txt', 'circle_SRR4009217.txt', 'circle_SRR4009218.txt', 'circle_SRR4009220.txt', 'circle_SRR4009221.txt', 'circle_SRR4009227.txt', 'circle_SRR4009228.txt', 'circle_SRR4009229.txt', 'circle_SRR4009230.txt', 'circle_SRR4009231.txt', 'circle_SRR4009232.txt', 'circle_SRR4009234.txt', 'circle_SRR4009235.txt', 'circle_SRR4009237.txt', 'circle_SRR4009244.txt', 'circle_SRR4009288.txt', 'circle_SRR4009298.txt', 'circle_SRR4009299.txt', 'circle_SRR4009301.txt', 'circle_SRR4009303.txt', 'circle_SRR4009304.txt', 'circle_SRR4009305.txt', 'circle_SRR4009328.txt', 'eccDNA_ATAC_DATA-Final.csv', 'eccDNA_ATAC_DATA-results.csv', 'eccDNA_ATAC_DATA.csv', 'single']\n"
     ]
    }
   ],
   "source": [
    "# Import data files from the directory in a path\n",
    "\n",
    "file_names = os.listdir('C:/Users/ASHA/BIGDATA/DATA')\n",
    "print(file_names)"
   ]
  },
  {
   "cell_type": "code",
   "execution_count": 7,
   "metadata": {},
   "outputs": [],
   "source": [
    "colnames = ['chr', 'start_coord', 'end_coord', 'discordants', 'split_reads', 'circle_score', 'mean_cov', 'stddev_cov', 'cov_incr_start', 'cov_incr_end', 'con_continuity']"
   ]
  },
  {
   "cell_type": "code",
   "execution_count": 8,
   "metadata": {},
   "outputs": [],
   "source": [
    "file_ids = ['SRR10704195', 'SRR10704196', 'SRR10704197', 'SRR10704198', 'SRR10704199', 'SRR10704200', 'SRR10704201', 'SRR10704202', 'SRR10704203', 'SRR10704204', 'SRR10704205', 'SRR10704206', 'SRR10704207', 'SRR10704208', 'SRR10704209', 'SRR10704210', 'SRR10704211', 'SRR10704212', 'SRR10704213', 'SRR10704214', 'SRR10704215', 'SRR10704216', 'SRR10704217', 'SRR4009201', 'SRR4009202', 'SRR4009212', 'SRR4009213', 'SRR4009215', 'SRR4009216', 'SRR4009217', 'SRR4009218', 'SRR4009220', 'SRR4009221', 'SRR4009227', 'SRR4009228', 'SRR4009229', 'SRR4009230', 'SRR4009231', 'SRR4009232', 'SRR4009233', 'SRR4009234', 'SRR4009235', 'SRR4009237', 'SRR4009244', 'SRR4009288', 'SRR4009298', 'SRR4009299', 'SRR4009301', 'SRR4009303', 'SRR4009304', 'SRR4009305', 'SRR4009328']\n",
    "\n",
    "\n",
    "#file_ids = ['SRR4009233']\n"
   ]
  },
  {
   "cell_type": "code",
   "execution_count": 9,
   "metadata": {},
   "outputs": [
    {
     "name": "stderr",
     "output_type": "stream",
     "text": [
      "UserWarning: Distributing <class 'NoneType'> object. This may take some time.\n"
     ]
    }
   ],
   "source": [
    "from glob import glob\n",
    "\n",
    "# Step 1: get a list of all csv files in target directory\n",
    "my_dir = \"C:\\\\Users\\\\ASHA\\\\BIGDATA\\\\DATA\"\n",
    "filelist = []\n",
    "filesList = []\n",
    "os.chdir(my_dir)\n",
    "\n",
    "# Step 2: Build up list of files:\n",
    "for files in glob(\"*.txt\"):\n",
    "    fileName, fileExtension = os.path.splitext(files)\n",
    "    filelist.append(fileName) #filename without extension\n",
    "    filesList.append(files) #filename with extension\n",
    "\n",
    "# Step 3: Build up DataFrame:\n",
    "df = pd.DataFrame()\n",
    "df = pd.concat([pd.read_csv(item, sep='\\t', names=colnames) for item in filesList])\n"
   ]
  },
  {
   "cell_type": "code",
   "execution_count": 10,
   "metadata": {
    "scrolled": true
   },
   "outputs": [
    {
     "name": "stdout",
     "output_type": "stream",
     "text": [
      "df_SRR10704195\n",
      "df_SRR10704196\n",
      "df_SRR10704197\n",
      "df_SRR10704198\n",
      "df_SRR10704199\n",
      "df_SRR10704200\n",
      "df_SRR10704201\n",
      "df_SRR10704202\n",
      "df_SRR10704203\n",
      "df_SRR10704204\n",
      "df_SRR10704205\n",
      "df_SRR10704206\n",
      "df_SRR10704207\n",
      "df_SRR10704208\n",
      "df_SRR10704209\n",
      "df_SRR10704210\n",
      "df_SRR10704211\n",
      "df_SRR10704212\n",
      "df_SRR10704213\n",
      "df_SRR10704214\n",
      "df_SRR10704215\n",
      "df_SRR10704216\n",
      "df_SRR10704217\n",
      "df_SRR4009201\n",
      "df_SRR4009202\n",
      "df_SRR4009212\n",
      "df_SRR4009213\n",
      "df_SRR4009215\n",
      "df_SRR4009216\n",
      "df_SRR4009217\n",
      "df_SRR4009218\n",
      "df_SRR4009220\n",
      "df_SRR4009221\n",
      "df_SRR4009227\n",
      "df_SRR4009228\n",
      "df_SRR4009229\n",
      "df_SRR4009230\n",
      "df_SRR4009231\n",
      "df_SRR4009232\n",
      "df_SRR4009234\n",
      "df_SRR4009235\n",
      "df_SRR4009237\n",
      "df_SRR4009244\n",
      "df_SRR4009288\n",
      "df_SRR4009298\n",
      "df_SRR4009299\n",
      "df_SRR4009301\n",
      "df_SRR4009303\n",
      "df_SRR4009304\n",
      "df_SRR4009305\n",
      "df_SRR4009328\n"
     ]
    }
   ],
   "source": [
    "from glob import glob\n",
    "\n",
    "# Step 1: get a list of all csv files in target directory\n",
    "my_dir = \"C:\\\\Users\\\\ASHA\\\\BIGDATA\\\\DATA\"\n",
    "filelist = []\n",
    "filesList = []\n",
    "os.chdir(my_dir)\n",
    "\n",
    "# Step 2: Build up list of files:\n",
    "for files in glob(\"*.txt\"):\n",
    "    fileName, fileExtension = os.path.splitext(files)\n",
    "    filelist.append(fileName.split('_', 1)[-1]) #filename without extension\n",
    "#    print(filelist)\n",
    "    filesList.append(files) #filename with extension\n",
    "\n",
    "# Step 3: Build up DataFrame:\n",
    "df = pd.DataFrame()\n",
    "data_df = pd.DataFrame()\n",
    "list_df = []\n",
    "\n",
    "for file in filelist:\n",
    "    filename = \"circle_\"+file+\".txt\"\n",
    "#    print(filename)\n",
    "    df = \"df\"+\"_\"+file\n",
    "    print(df)\n",
    "    df = pd.read_csv(filename, sep='\\t', names=colnames) \n",
    "    df.insert(0, 'sample_id', file)\n",
    "    list_df.append(df)\n",
    "    data_df = pd.concat(list_df, keys=file_ids)\n"
   ]
  },
  {
   "cell_type": "code",
   "execution_count": 11,
   "metadata": {
    "scrolled": true
   },
   "outputs": [
    {
     "data": {
      "text/html": [
       "<div>\n",
       "<style scoped>\n",
       "    .dataframe tbody tr th:only-of-type {\n",
       "        vertical-align: middle;\n",
       "    }\n",
       "\n",
       "    .dataframe tbody tr th {\n",
       "        vertical-align: top;\n",
       "    }\n",
       "\n",
       "    .dataframe thead th {\n",
       "        text-align: right;\n",
       "    }\n",
       "</style>\n",
       "<table border=\"1\" class=\"dataframe\">\n",
       "  <thead>\n",
       "    <tr style=\"text-align: right;\">\n",
       "      <th></th>\n",
       "      <th></th>\n",
       "      <th>sample_id</th>\n",
       "      <th>chr</th>\n",
       "      <th>start_coord</th>\n",
       "      <th>end_coord</th>\n",
       "      <th>discordants</th>\n",
       "      <th>split_reads</th>\n",
       "      <th>circle_score</th>\n",
       "      <th>mean_cov</th>\n",
       "      <th>stddev_cov</th>\n",
       "      <th>cov_incr_start</th>\n",
       "      <th>cov_incr_end</th>\n",
       "      <th>con_continuity</th>\n",
       "    </tr>\n",
       "  </thead>\n",
       "  <tbody>\n",
       "    <tr>\n",
       "      <th rowspan=\"5\" valign=\"top\">SRR10704195</th>\n",
       "      <th>0</th>\n",
       "      <td>SRR10704195</td>\n",
       "      <td>chr10</td>\n",
       "      <td>26935713</td>\n",
       "      <td>26940339</td>\n",
       "      <td>4</td>\n",
       "      <td>0</td>\n",
       "      <td>0.00</td>\n",
       "      <td>0.511457</td>\n",
       "      <td>0.724456</td>\n",
       "      <td>0.980000</td>\n",
       "      <td>0.839286</td>\n",
       "      <td>0.609166</td>\n",
       "    </tr>\n",
       "    <tr>\n",
       "      <th>1</th>\n",
       "      <td>SRR10704195</td>\n",
       "      <td>chr10</td>\n",
       "      <td>39506876</td>\n",
       "      <td>39506941</td>\n",
       "      <td>4</td>\n",
       "      <td>0</td>\n",
       "      <td>0.00</td>\n",
       "      <td>2.553846</td>\n",
       "      <td>0.723895</td>\n",
       "      <td>0.882979</td>\n",
       "      <td>0.882979</td>\n",
       "      <td>0.000000</td>\n",
       "    </tr>\n",
       "    <tr>\n",
       "      <th>2</th>\n",
       "      <td>SRR10704195</td>\n",
       "      <td>chr10</td>\n",
       "      <td>41860269</td>\n",
       "      <td>41860323</td>\n",
       "      <td>13</td>\n",
       "      <td>0</td>\n",
       "      <td>0.00</td>\n",
       "      <td>448.240741</td>\n",
       "      <td>177.763569</td>\n",
       "      <td>0.709262</td>\n",
       "      <td>0.968316</td>\n",
       "      <td>0.000000</td>\n",
       "    </tr>\n",
       "    <tr>\n",
       "      <th>3</th>\n",
       "      <td>SRR10704195</td>\n",
       "      <td>chr10</td>\n",
       "      <td>113689917</td>\n",
       "      <td>113689999</td>\n",
       "      <td>4</td>\n",
       "      <td>0</td>\n",
       "      <td>0.00</td>\n",
       "      <td>0.902439</td>\n",
       "      <td>0.296720</td>\n",
       "      <td>0.986667</td>\n",
       "      <td>0.986667</td>\n",
       "      <td>0.097561</td>\n",
       "    </tr>\n",
       "    <tr>\n",
       "      <th>4</th>\n",
       "      <td>SRR10704195</td>\n",
       "      <td>chr12</td>\n",
       "      <td>68786262</td>\n",
       "      <td>69204786</td>\n",
       "      <td>84</td>\n",
       "      <td>17</td>\n",
       "      <td>195.97</td>\n",
       "      <td>22.579384</td>\n",
       "      <td>11.965008</td>\n",
       "      <td>0.984020</td>\n",
       "      <td>0.998708</td>\n",
       "      <td>0.010456</td>\n",
       "    </tr>\n",
       "    <tr>\n",
       "      <th>...</th>\n",
       "      <th>...</th>\n",
       "      <td>...</td>\n",
       "      <td>...</td>\n",
       "      <td>...</td>\n",
       "      <td>...</td>\n",
       "      <td>...</td>\n",
       "      <td>...</td>\n",
       "      <td>...</td>\n",
       "      <td>...</td>\n",
       "      <td>...</td>\n",
       "      <td>...</td>\n",
       "      <td>...</td>\n",
       "      <td>...</td>\n",
       "    </tr>\n",
       "    <tr>\n",
       "      <th rowspan=\"5\" valign=\"top\">SRR4009305</th>\n",
       "      <th>456</th>\n",
       "      <td>SRR4009328</td>\n",
       "      <td>chrY</td>\n",
       "      <td>10763056</td>\n",
       "      <td>10763259</td>\n",
       "      <td>0</td>\n",
       "      <td>1</td>\n",
       "      <td>7.98</td>\n",
       "      <td>29.753695</td>\n",
       "      <td>25.755738</td>\n",
       "      <td>0.847707</td>\n",
       "      <td>0.679779</td>\n",
       "      <td>0.093596</td>\n",
       "    </tr>\n",
       "    <tr>\n",
       "      <th>457</th>\n",
       "      <td>SRR4009328</td>\n",
       "      <td>chrY</td>\n",
       "      <td>10785228</td>\n",
       "      <td>10785341</td>\n",
       "      <td>10</td>\n",
       "      <td>0</td>\n",
       "      <td>0.00</td>\n",
       "      <td>343.867257</td>\n",
       "      <td>161.296490</td>\n",
       "      <td>0.991402</td>\n",
       "      <td>0.998851</td>\n",
       "      <td>0.000000</td>\n",
       "    </tr>\n",
       "    <tr>\n",
       "      <th>458</th>\n",
       "      <td>SRR4009328</td>\n",
       "      <td>chrY</td>\n",
       "      <td>10796626</td>\n",
       "      <td>10796756</td>\n",
       "      <td>4</td>\n",
       "      <td>0</td>\n",
       "      <td>0.00</td>\n",
       "      <td>269.730769</td>\n",
       "      <td>163.724289</td>\n",
       "      <td>0.986009</td>\n",
       "      <td>1.000000</td>\n",
       "      <td>0.161538</td>\n",
       "    </tr>\n",
       "    <tr>\n",
       "      <th>459</th>\n",
       "      <td>SRR4009328</td>\n",
       "      <td>chrY</td>\n",
       "      <td>10801628</td>\n",
       "      <td>10801781</td>\n",
       "      <td>3</td>\n",
       "      <td>0</td>\n",
       "      <td>0.00</td>\n",
       "      <td>78.359477</td>\n",
       "      <td>40.418014</td>\n",
       "      <td>0.919453</td>\n",
       "      <td>0.993031</td>\n",
       "      <td>0.000000</td>\n",
       "    </tr>\n",
       "    <tr>\n",
       "      <th>460</th>\n",
       "      <td>SRR4009328</td>\n",
       "      <td>chrY</td>\n",
       "      <td>10999843</td>\n",
       "      <td>10999964</td>\n",
       "      <td>5</td>\n",
       "      <td>0</td>\n",
       "      <td>0.00</td>\n",
       "      <td>294.586777</td>\n",
       "      <td>137.566313</td>\n",
       "      <td>0.994975</td>\n",
       "      <td>0.994885</td>\n",
       "      <td>0.000000</td>\n",
       "    </tr>\n",
       "  </tbody>\n",
       "</table>\n",
       "<p>9844 rows x 12 columns</p>\n",
       "</div>"
      ],
      "text/plain": [
       "                   sample_id    chr  start_coord  end_coord  discordants  \\\n",
       "SRR10704195 0    SRR10704195  chr10     26935713   26940339            4   \n",
       "            1    SRR10704195  chr10     39506876   39506941            4   \n",
       "            2    SRR10704195  chr10     41860269   41860323           13   \n",
       "            3    SRR10704195  chr10    113689917  113689999            4   \n",
       "            4    SRR10704195  chr12     68786262   69204786           84   \n",
       "...                      ...    ...          ...        ...          ...   \n",
       "SRR4009305  456   SRR4009328   chrY     10763056   10763259            0   \n",
       "            457   SRR4009328   chrY     10785228   10785341           10   \n",
       "            458   SRR4009328   chrY     10796626   10796756            4   \n",
       "            459   SRR4009328   chrY     10801628   10801781            3   \n",
       "            460   SRR4009328   chrY     10999843   10999964            5   \n",
       "\n",
       "                 split_reads  circle_score    mean_cov  stddev_cov  \\\n",
       "SRR10704195 0              0          0.00    0.511457    0.724456   \n",
       "            1              0          0.00    2.553846    0.723895   \n",
       "            2              0          0.00  448.240741  177.763569   \n",
       "            3              0          0.00    0.902439    0.296720   \n",
       "            4             17        195.97   22.579384   11.965008   \n",
       "...                      ...           ...         ...         ...   \n",
       "SRR4009305  456            1          7.98   29.753695   25.755738   \n",
       "            457            0          0.00  343.867257  161.296490   \n",
       "            458            0          0.00  269.730769  163.724289   \n",
       "            459            0          0.00   78.359477   40.418014   \n",
       "            460            0          0.00  294.586777  137.566313   \n",
       "\n",
       "                 cov_incr_start  cov_incr_end  con_continuity  \n",
       "SRR10704195 0          0.980000      0.839286        0.609166  \n",
       "            1          0.882979      0.882979        0.000000  \n",
       "            2          0.709262      0.968316        0.000000  \n",
       "            3          0.986667      0.986667        0.097561  \n",
       "            4          0.984020      0.998708        0.010456  \n",
       "...                         ...           ...             ...  \n",
       "SRR4009305  456        0.847707      0.679779        0.093596  \n",
       "            457        0.991402      0.998851        0.000000  \n",
       "            458        0.986009      1.000000        0.161538  \n",
       "            459        0.919453      0.993031        0.000000  \n",
       "            460        0.994975      0.994885        0.000000  \n",
       "\n",
       "[9844 rows x 12 columns]"
      ]
     },
     "execution_count": 11,
     "metadata": {},
     "output_type": "execute_result"
    }
   ],
   "source": [
    "data_df.head(-5)"
   ]
  },
  {
   "cell_type": "code",
   "execution_count": 12,
   "metadata": {
    "scrolled": true
   },
   "outputs": [
    {
     "name": "stdout",
     "output_type": "stream",
     "text": [
      "<class 'modin.pandas.dataframe.DataFrame'>\n",
      "MultiIndex: 9849 entries, ('SRR10704195', 0) to ('SRR4009305', 465)\n",
      "Data columns (total 12 columns):\n",
      " #   Column          Non-Null Count  Dtype  \n",
      "---  --------------  --------------  -----  \n",
      " 0   sample_id       9849 non-null   object\n",
      " 1   chr             9849 non-null   object\n",
      " 2   start_coord     9849 non-null   int64\n",
      " 3   end_coord       9849 non-null   int64\n",
      " 4   discordants     9849 non-null   int64\n",
      " 5   split_reads     9849 non-null   int64\n",
      " 6   circle_score    9849 non-null   float64\n",
      " 7   mean_cov        9849 non-null   float64\n",
      " 8   stddev_cov      9849 non-null   float64\n",
      " 9   cov_incr_start  9814 non-null   float64\n",
      " 10  cov_incr_end    9820 non-null   float64\n",
      " 11  con_continuity  9849 non-null   float64\n",
      "dtypes: float64(6), int64(4), object(2)\n",
      "memory usage: 980.4 KB\n"
     ]
    },
    {
     "name": "stderr",
     "output_type": "stream",
     "text": [
      "UserWarning: Distributing <class 'int'> object. This may take some time.\n"
     ]
    }
   ],
   "source": [
    "data_df.info()"
   ]
  },
  {
   "cell_type": "code",
   "execution_count": 13,
   "metadata": {},
   "outputs": [
    {
     "name": "stderr",
     "output_type": "stream",
     "text": [
      "UserWarning: `DataFrame.to_csv` defaulting to pandas implementation.\n",
      "To request implementation, send an email to feature_requests@modin.org.\n",
      "UserWarning: Distributing <class 'pandas.core.frame.DataFrame'> object. This may take some time.\n"
     ]
    }
   ],
   "source": [
    "data_df.to_csv(r\"C:\\Users\\ASHA\\BIGDATA\\DATA\\eccDNA_WGS_DATA.csv\", index=False, header=True)"
   ]
  },
  {
   "cell_type": "code",
   "execution_count": null,
   "metadata": {},
   "outputs": [],
   "source": []
  },
  {
   "cell_type": "code",
   "execution_count": null,
   "metadata": {},
   "outputs": [],
   "source": []
  },
  {
   "cell_type": "code",
   "execution_count": null,
   "metadata": {},
   "outputs": [],
   "source": []
  }
 ],
 "metadata": {
  "kernelspec": {
   "display_name": "Python 3",
   "language": "python",
   "name": "python3"
  },
  "language_info": {
   "codemirror_mode": {
    "name": "ipython",
    "version": 3
   },
   "file_extension": ".py",
   "mimetype": "text/x-python",
   "name": "python",
   "nbconvert_exporter": "python",
   "pygments_lexer": "ipython3",
   "version": "3.8.3"
  }
 },
 "nbformat": 4,
 "nbformat_minor": 4
}
