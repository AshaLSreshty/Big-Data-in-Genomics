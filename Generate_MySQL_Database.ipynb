{
 "cells": [
  {
   "cell_type": "markdown",
   "metadata": {},
   "source": [
    "# 1. CONSTRUCTING A DATABASE FOR MySQL"
   ]
  },
  {
   "cell_type": "markdown",
   "metadata": {},
   "source": [
    "**Objective of this notebook:**\n",
    "\n",
    "This note book contains the code for MySQL Database creation and inserting the bed files into the database"
   ]
  },
  {
   "cell_type": "markdown",
   "metadata": {},
   "source": [
    "**IMPORTING THE PYTHON MODULES**"
   ]
  },
  {
   "cell_type": "code",
   "execution_count": 3,
   "metadata": {},
   "outputs": [],
   "source": [
    "import pandas as pd\n",
    "import numpy as np\n",
    "import mysql.connector\n",
    "from mysql.connector import errorcode"
   ]
  },
  {
   "cell_type": "markdown",
   "metadata": {},
   "source": [
    "**CONSTRUCTING A DATABASE**"
   ]
  },
  {
   "cell_type": "code",
   "execution_count": 4,
   "metadata": {},
   "outputs": [
    {
     "name": "stdout",
     "output_type": "stream",
     "text": [
      "<mysql.connector.connection_cext.CMySQLConnection object at 0x0000000003D582E0>\n"
     ]
    }
   ],
   "source": [
    "#establishing the connection\n",
    "\n",
    "eccdnadb_con = mysql.connector.connect(host=\"localhost\", user=\"root\", passwd=\"eccdna\")\n",
    "print(eccdnadb_con)"
   ]
  },
  {
   "cell_type": "code",
   "execution_count": 5,
   "metadata": {},
   "outputs": [],
   "source": [
    "#Creating a cursor object using the cursor() method\n",
    "\n",
    "mycursor = eccdnadb_con.cursor()"
   ]
  },
  {
   "cell_type": "code",
   "execution_count": null,
   "metadata": {},
   "outputs": [],
   "source": [
    "#Droping database MYDATABASE if already exists.\n",
    "mycursor.execute(\"DROP database IF EXISTS eccdna_db\")"
   ]
  },
  {
   "cell_type": "code",
   "execution_count": null,
   "metadata": {},
   "outputs": [],
   "source": [
    "#Preparing query to create a database\n",
    "\n",
    "sql = \"CREATE database eccdna_db\";\n",
    "\n",
    "#Creating a database\n",
    "mycursor.execute(sql)"
   ]
  },
  {
   "cell_type": "code",
   "execution_count": null,
   "metadata": {},
   "outputs": [],
   "source": [
    "#Retrieving the list of databases\n",
    "\n",
    "print(\"List of databases: \")\n",
    "mycursor.execute(\"SHOW DATABASES\")\n",
    "print(mycursor.fetchall())"
   ]
  },
  {
   "cell_type": "code",
   "execution_count": null,
   "metadata": {},
   "outputs": [],
   "source": [
    "DB_NAME = 'eccdna_db'"
   ]
  },
  {
   "cell_type": "code",
   "execution_count": null,
   "metadata": {},
   "outputs": [],
   "source": [
    "TABLES = {}\n",
    "\n",
    "TABLES[\"sample_info\"] = (\"CREATE TABLE `sample_info` (\"\n",
    "                                                     \" `sample_id` VARCHAR(100) NOT NULL,\"\n",
    "                                                     \" `ngs_seqtech` VARCHAR(100) NOT NULL,\"\n",
    "                                                     \" `comments` MEDIUMTEXT,\"\n",
    "                                                     \"  PRIMARY KEY (`sample_id`)\"\n",
    "                                                     \") ENGINE=InnoDB\")\n",
    "\n",
    "TABLES[\"data\"] = (\"CREATE TABLE `data` (\"\n",
    "                                                     \" `sample_id` VARCHAR(100) NOT NULL,\"\n",
    "                                                     \" `chr` VARCHAR(100) NOT NULL,\"\n",
    "                                                     \" `start_coord` INT NOT NULL,\"\n",
    "                                                     \" `end_coord` INT NOT NULL,\"\n",
    "                                                     \" `discordants` INT NOT NULL,\"\n",
    "                                                     \" `split_reads` INT NOT NULL,\"\n",
    "                                                     \" `circle_score` FLOAT NOT NULL,\"\n",
    "                                                     \" `mean_cov` FLOAT NOT NULL,\"\n",
    "                                                     \" `stddev_cov` FLOAT NOT NULL,\"\n",
    "                                                     \" `cov_incr_start` FLOAT NOT NULL,\"\n",
    "                                                     \" `cov_incr_end` FLOAT NOT NULL,\"\n",
    "                                                     \" `cov_continuity` FLOAT NOT NULL,\"\n",
    "                                                     \" `target` INT NOT NULL,\"\n",
    "                                                     \"  PRIMARY KEY (`sample_id`),\"\n",
    "                                                     \"  FOREIGN KEY (`sample_id`) \\\n",
    "                                                        REFERENCES `sample_info` (`sample_id`) \\\n",
    "                                                        ON UPDATE CASCADE \\\n",
    "                                                        ON DELETE CASCADE\"\n",
    "                                                        \") ENGINE=InnoDB\")\n",
    "                                                     \n",
    "TABLES[\"training_data\"] = (\"CREATE TABLE `training_data` (\"\n",
    "                                                     \n",
    "                                                     \" `percent_group` FLOAT NOT NULL,\"\n",
    "                                                     \" `sample_id` VARCHAR(100) NOT NULL,\"\n",
    "                                                     \" `chr` VARCHAR(100) NOT NULL,\"\n",
    "                                                     \" `start_coord` INT NOT NULL,\"\n",
    "                                                     \" `end_coord` INT NOT NULL,\"\n",
    "                                                     \" `discordants` INT NOT NULL,\"\n",
    "                                                     \" `split_reads` INT NOT NULL,\"\n",
    "                                                     \" `circle_score` FLOAT NOT NULL,\"\n",
    "                                                     \" `mean_cov` FLOAT NOT NULL,\"\n",
    "                                                     \" `stddev_cov` FLOAT NOT NULL,\"\n",
    "                                                     \" `cov_incr_start` FLOAT NOT NULL,\"\n",
    "                                                     \" `cov_incr_end` FLOAT NOT NULL,\"\n",
    "                                                     \" `cov_continuity` FLOAT NOT NULL,\"\n",
    "                                                     \" `target` INT NOT NULL,\"\n",
    "                                                     \"  PRIMARY KEY (`sample_id`),\"\n",
    "                                                     \"  FOREIGN KEY (`sample_id`) \\\n",
    "                                                        REFERENCES `sample_info` (`sample_id`) \\\n",
    "                                                        ON UPDATE CASCADE \\\n",
    "                                                        ON DELETE CASCADE\"\n",
    "                                                        \") ENGINE=InnoDB\")\n",
    "                                                                              \n",
    "\n",
    "TABLES[\"test_data\"] = (\"CREATE TABLE `test_data` (\"\n",
    "                                                     \" `percent_group` FLOAT NOT NULL,\"\n",
    "                                                     \" `sample_id` VARCHAR(100) NOT NULL,\"\n",
    "                                                     \" `chr` VARCHAR(100) NOT NULL,\"\n",
    "                                                     \" `start_coord` INT NOT NULL,\"\n",
    "                                                     \" `end_coord` INT NOT NULL,\"\n",
    "                                                     \" `discordants` INT NOT NULL,\"\n",
    "                                                     \" `split_reads` INT NOT NULL,\"\n",
    "                                                     \" `circle_score` FLOAT NOT NULL,\"\n",
    "                                                     \" `mean_cov` FLOAT NOT NULL,\"\n",
    "                                                     \" `stddev_cov` FLOAT NOT NULL,\"\n",
    "                                                     \" `cov_incr_start` FLOAT NOT NULL,\"\n",
    "                                                     \" `cov_incr_end` FLOAT NOT NULL,\"\n",
    "                                                     \" `cov_continuity` FLOAT NOT NULL,\"\n",
    "                                                     \" `target` INT NOT NULL,\"\n",
    "                                                     \"  PRIMARY KEY (`sample_id`),\"\n",
    "                                                     \"  FOREIGN KEY (`sample_id`) \\\n",
    "                                                        REFERENCES `sample_info` (`sample_id`) \\\n",
    "                                                        ON UPDATE CASCADE \\\n",
    "                                                        ON DELETE CASCADE\"\n",
    "                                                        \") ENGINE=InnoDB\")  \n",
    "\n",
    "TABLES[\"results\"] = (\"CREATE TABLE `results` (\"\n",
    "                                                     \" `percent_group` FLOAT NOT NULL,\"\n",
    "                                                     \" `sample_id` VARCHAR(100) NOT NULL,\"\n",
    "                                                     \" `chr` VARCHAR(100) NOT NULL,\"\n",
    "                                                     \" `start_coord` INT NOT NULL,\"\n",
    "                                                     \" `end_coord` INT NOT NULL,\"\n",
    "                                                     \" `discordants` INT NOT NULL,\"\n",
    "                                                     \" `split_reads` INT NOT NULL,\"\n",
    "                                                     \" `circle_score` FLOAT NOT NULL,\"\n",
    "                                                     \" `mean_cov` FLOAT NOT NULL,\"\n",
    "                                                     \" `stddev_cov` FLOAT NOT NULL,\"\n",
    "                                                     \" `cov_incr_start` FLOAT NOT NULL,\"\n",
    "                                                     \" `cov_incr_end` FLOAT NOT NULL,\"\n",
    "                                                     \" `cov_continuity` FLOAT NOT NULL,\"\n",
    "                                                     \" `target` INT NOT NULL,\"\n",
    "                                                     \"  PRIMARY KEY (`sample_id`),\"\n",
    "                                                     \"  FOREIGN KEY (`sample_id`) \\\n",
    "                                                        REFERENCES `sample_info` (`sample_id`) \\\n",
    "                                                        ON UPDATE CASCADE \\\n",
    "                                                        ON DELETE CASCADE\"\n",
    "                                                        \") ENGINE=InnoDB\")\n",
    "\n",
    "\n",
    "\n"
   ]
  },
  {
   "cell_type": "code",
   "execution_count": null,
   "metadata": {},
   "outputs": [],
   "source": [
    "# Creating the Database\n",
    "\n",
    "def create_database(cursor):\n",
    "    try:\n",
    "        mycursor.execute(\n",
    "            \"CREATE DATABASE {} DEFAULT CHARACTER SET 'utf8'\".format(DB_NAME))\n",
    "    except mysql.connector.Error as err:\n",
    "        print(\"Failed creating database: {}\".format(err))\n",
    "        exit(1)\n",
    "\n",
    "try:\n",
    "    mycursor.execute(\"USE {}\".format(DB_NAME))\n",
    "except mysql.connector.Error as err:\n",
    "    print(\"Database {} does not exists.\".format(DB_NAME))\n",
    "    if err.errno == errorcode.ER_BAD_DB_ERROR:\n",
    "        create_database(cursor)\n",
    "        print(\"Database {} created successfully.\".format(DB_NAME))\n",
    "        eccdnadb_con.database = DB_NAME\n",
    "    else:\n",
    "        print(err)\n",
    "        exit(1)"
   ]
  },
  {
   "cell_type": "code",
   "execution_count": null,
   "metadata": {},
   "outputs": [],
   "source": [
    "# Creating tables in database\n",
    "\n",
    "for table_name in TABLES:\n",
    "    table_description = TABLES[table_name]\n",
    "    try:\n",
    "        print(\"Creating table {}: \".format(table_name), end='')\n",
    "        mycursor.execute(table_description)\n",
    "    except mysql.connector.Error as err:\n",
    "        if err.errno == errorcode.ER_TABLE_EXISTS_ERROR:\n",
    "            print(\"already exists.\")\n",
    "        else:\n",
    "            print(err.msg)\n",
    "    else:\n",
    "        print(\"OK\")\n",
    "\n"
   ]
  },
  {
   "cell_type": "code",
   "execution_count": null,
   "metadata": {},
   "outputs": [],
   "source": [
    "## getting all the tables which are present in 'datacamp' database\n",
    "mycursor.execute(\"SHOW TABLES\")\n",
    "\n",
    "tables = mycursor.fetchall() ## it returns list of tables present in the database\n",
    "\n",
    "## showing all the tables one by one\n",
    "for table in tables:\n",
    "    print(table)"
   ]
  },
  {
   "cell_type": "code",
   "execution_count": null,
   "metadata": {},
   "outputs": [],
   "source": [
    "mycursor.close()\n",
    "eccdnadb_con.close()"
   ]
  },
  {
   "cell_type": "code",
   "execution_count": null,
   "metadata": {},
   "outputs": [],
   "source": []
  },
  {
   "cell_type": "code",
   "execution_count": null,
   "metadata": {},
   "outputs": [],
   "source": []
  }
 ],
 "metadata": {
  "kernelspec": {
   "display_name": "Python 3",
   "language": "python",
   "name": "python3"
  },
  "language_info": {
   "codemirror_mode": {
    "name": "ipython",
    "version": 3
   },
   "file_extension": ".py",
   "mimetype": "text/x-python",
   "name": "python",
   "nbconvert_exporter": "python",
   "pygments_lexer": "ipython3",
   "version": "3.8.3"
  }
 },
 "nbformat": 4,
 "nbformat_minor": 4
}
